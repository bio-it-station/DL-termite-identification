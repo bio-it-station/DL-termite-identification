version https://git-lfs.github.com/spec/v1
oid sha256:d1ca19b2145bde6b9455b3558bb4263c34bdf020ec40fcca0e61d4ab7271eeb1
size 3842248
