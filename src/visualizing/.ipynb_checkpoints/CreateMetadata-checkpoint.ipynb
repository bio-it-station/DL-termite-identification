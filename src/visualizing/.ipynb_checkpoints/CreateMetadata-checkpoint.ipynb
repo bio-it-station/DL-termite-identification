{
 "cells": [
  {
   "cell_type": "code",
   "execution_count": 1,
   "metadata": {},
   "outputs": [],
   "source": [
    "import os\n",
    "from os import path as p"
   ]
  },
  {
   "cell_type": "code",
   "execution_count": 2,
   "metadata": {},
   "outputs": [],
   "source": [
    "root = \"/home/jimmy/Bitsstor03/Termite/individual/BENCHMARK\""
   ]
  },
  {
   "cell_type": "code",
   "execution_count": 10,
   "metadata": {},
   "outputs": [],
   "source": [
    "metadata = []\n",
    "categories = os.listdir(root)\n",
    "for category in categories:\n",
    "    locations = os.listdir(p.join(root,category))\n",
    "#     print(p.join(root,category))\n",
    "    for location in locations:\n",
    "        files = os.listdir(p.join(root,category,location))\n",
    "        for name in files:\n",
    "            imgpath = p.join(root,category,location,name)\n",
    "#             print(imgpath)\n",
    "            metadata.append([category,location,imgpath])"
   ]
  },
  {
   "cell_type": "code",
   "execution_count": 11,
   "metadata": {},
   "outputs": [
    {
     "name": "stdout",
     "output_type": "stream",
     "text": [
      "9600\n"
     ]
    }
   ],
   "source": [
    "print(len(metadata))"
   ]
  },
  {
   "cell_type": "code",
   "execution_count": null,
   "metadata": {},
   "outputs": [],
   "source": []
  }
 ],
 "metadata": {
  "kernelspec": {
   "display_name": "Python 3",
   "language": "python",
   "name": "python3"
  },
  "language_info": {
   "codemirror_mode": {
    "name": "ipython",
    "version": 3
   },
   "file_extension": ".py",
   "mimetype": "text/x-python",
   "name": "python",
   "nbconvert_exporter": "python",
   "pygments_lexer": "ipython3",
   "version": "3.5.2"
  }
 },
 "nbformat": 4,
 "nbformat_minor": 4
}
