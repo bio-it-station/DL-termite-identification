version https://git-lfs.github.com/spec/v1
oid sha256:644b08b9c9581ac4f3cc13789ac4d8bf7d987f164ba9b264aa2621a58d1b927b
size 180620
