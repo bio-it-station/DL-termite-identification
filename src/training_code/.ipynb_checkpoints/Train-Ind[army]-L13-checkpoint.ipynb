{
 "cells": [
  {
   "cell_type": "code",
   "execution_count": 1,
   "metadata": {},
   "outputs": [],
   "source": [
    "import torch\n",
    "from torch import nn\n",
    "import torch.utils.data as Data\n",
    "import torch.optim as optim\n",
    "import numpy as np\n",
    "from os.path import join as PJ\n",
    "import matplotlib.pyplot as plt "
   ]
  },
  {
   "cell_type": "code",
   "execution_count": 2,
   "metadata": {},
   "outputs": [],
   "source": [
    "from torch.utils.data import Dataset\n",
    "from torchvision import transforms\n",
    "from PIL import Image,ImageOps"
   ]
  },
  {
   "cell_type": "code",
   "execution_count": 3,
   "metadata": {},
   "outputs": [],
   "source": [
    "import tensorflow as tf"
   ]
  },
  {
   "cell_type": "code",
   "execution_count": 5,
   "metadata": {},
   "outputs": [],
   "source": [
    "def LoadFiles(mode=\"train\"):\n",
    "    if mode == \"train\":\n",
    "        with open(TrainFile, 'r') as trainf:\n",
    "            image_info = trainf.readlines()\n",
    "            image_info = [path.strip().split() for path in image_info]\n",
    "            image_info = np.asarray(image_info)\n",
    "\n",
    "            # Split to image path and label\n",
    "            image_paths = image_info[:, 0]\n",
    "            label_ids = image_info[:, 1].astype(int)\n",
    "\n",
    "#             labels = tf.one_hot(label_ids, num_class, dtype=tf.int32)\n",
    "            print(\"in Load : \", label_ids.shape)\n",
    "            return image_paths, label_ids\n",
    "    else:\n",
    "        with open(TestFile, 'r') as testf:\n",
    "            image_info = testf.readlines()\n",
    "            image_info = [path.strip().split() for path in image_info]\n",
    "            image_info = np.asarray(image_info)\n",
    "\n",
    "            # Split to image path and label\n",
    "            image_paths = image_info[:, 0]\n",
    "            label_ids = image_info[:, 1].astype(int)\n",
    "#             labels = tf.one_hot(label_ids, num_class, dtype=tf.int32)\n",
    "            return image_paths, label_ids"
   ]
  },
  {
   "cell_type": "code",
   "execution_count": 6,
   "metadata": {},
   "outputs": [],
   "source": [
    "import cv2\n",
    "class TermiteDataset(Dataset):\n",
    "    def __init__(self, data_file, transform):\n",
    "        \n",
    "        with open(data_file, 'r') as f:\n",
    "            image_info = f.readlines()\n",
    "        image_info = [path.strip().split() for path in image_info]\n",
    "        image_info = np.asarray(image_info)\n",
    "\n",
    "        # Split to image path and label\n",
    "        self.image_paths = image_info[:, 0]\n",
    "        self.label_ids = image_info[:, 1].astype(int)\n",
    "        self.transform = transform\n",
    "        \n",
    "    def __len__(self):\n",
    "        return len(self.image_paths)\n",
    "\n",
    "    def __getitem__(self, idx):\n",
    "#         print(idx, self.label_ids.shape, self.label_ids[idx])\n",
    "        label = self.label_ids[idx]\n",
    "        image_path = self.image_paths[idx]\n",
    "        original_image = Image.open(image_path).convert('RGB')\n",
    "        \n",
    "#         print(original_image.size)\n",
    "        \n",
    "        if original_image.size[0] > 1000:\n",
    "            original_image = original_image.resize((1000, original_image.size[1]*1000//original_image.size[0]))\n",
    "        elif original_image.size[1] > 1000:\n",
    "            original_image = original_image.resize((original_image.size[0]*1000//original_image.size[1], 1000))\n",
    "#         print(original_image.shape)\n",
    "        left = 500-original_image.size[0]//2\n",
    "        right = 500-original_image.size[0]//2\n",
    "        top = 500-original_image.size[1]//2\n",
    "        bottom = 500-original_image.size[1]//2\n",
    "        \n",
    "        if left + right + original_image.size[0] != 1000:\n",
    "            right = 1000 - left - original_image.size[0]\n",
    "        if top + bottom + original_image.size[1] != 1000:\n",
    "            top = 1000 - bottom - original_image.size[1]\n",
    "        \n",
    "#         original_image= cv2.copyMakeBorder(original_image,left,right,top,bottom,cv2.BORDER_CONSTANT,value=(0, 0, 0))\n",
    "        original_image = ImageOps.expand(original_image, border=(left,top,right,bottom), fill=0)##left,top,right,bottom\n",
    "        original_image = original_image.resize((130,130))\n",
    "        transform1 = transforms.Compose([transforms.ToTensor()])\n",
    "        original_image = transform1(original_image)\n",
    "#         print(original_image.shape)\n",
    "        \n",
    "        \n",
    "#         original_image = self.transform(original_image)\n",
    "#         original_image.permute(2,0,1)\n",
    "#         print(original_image.shape, answer.shape)\n",
    "        return label, original_image, self.image_paths[idx]\n",
    "\n",
    "def transform_set(train, new_size=None, pad=None):\n",
    "    \"\"\"\n",
    "    train: True or False\n",
    "    new_size: int or tuple\n",
    "    \n",
    "    \"\"\"\n",
    "#     transform_list = [transforms.ToTensor(),\n",
    "#                       transforms.Normalize([0.5, 0.5, 0.5], [0.5, 0.5, 0.5])]\n",
    "    transform_list = [transforms.ToTensor()]\n",
    "    # replace centercrop to padding\n",
    "#     transform_list = [transforms.CenterCrop((crop_h, crop_w))] + transform_list if crop else transform_list\n",
    "#     transform_list = [transforms.Resize(new_size)] + transform_list if new_size is not None else transform_list\n",
    "\n",
    "#     transform_list = [transforms.RandomHorizontalFlip()] + transform_list if train else transform_list\n",
    "    transform = transforms.Compose(transform_list)\n",
    "    return transform"
   ]
  },
  {
   "cell_type": "code",
   "execution_count": 7,
   "metadata": {},
   "outputs": [],
   "source": [
    "def CheckFile(filename):\n",
    "    with open(filename, 'r') as f:\n",
    "            image_info = f.readlines()\n",
    "    image_info = [path.strip().split() for path in image_info]\n",
    "    image_info = np.asarray(image_info)\n",
    "    counts = {\"台灣土白蟻兵蟻\" : 0,\n",
    "             \"台灣土白蟻工蟻\" : 0,\n",
    "             \"台灣家白蟻兵蟻\" : 0,\n",
    "             \"台灣家白蟻工蟻\" : 0,\n",
    "             \"截頭堆沙兵蟻\" : 0,\n",
    "             \"截頭堆沙工蟻\" : 0,\n",
    "             \"黃肢散工蟻\" : 0,\n",
    "             \"黃肢散兵蟻\" : 0,}\n",
    "        \n",
    "    Locations = {\"L1\" : 0,\n",
    "             \"L2\" : 0,\n",
    "             \"L3\" : 0}\n",
    "    for line in image_info:\n",
    "        path = line[0]\n",
    "        if \"L1\" in path:\n",
    "            Locations[\"L1\"] += 1\n",
    "        if \"L2\" in path:\n",
    "            Locations[\"L2\"] += 1\n",
    "        if \"L3\" in path:\n",
    "            Locations[\"L3\"] += 1\n",
    "        if \"台灣土白蟻兵蟻\" in path:\n",
    "            counts[\"台灣土白蟻兵蟻\"] += 1\n",
    "        if \"台灣土白蟻工蟻\" in path:\n",
    "            counts[\"台灣土白蟻工蟻\"] += 1\n",
    "        if \"台灣家白蟻兵蟻\" in path:\n",
    "            counts[\"台灣家白蟻兵蟻\"] += 1\n",
    "        if \"台灣家白蟻工蟻\" in path:\n",
    "            counts[\"台灣家白蟻工蟻\"] += 1\n",
    "        if \"截頭堆沙兵蟻\" in path:\n",
    "            counts[\"截頭堆沙兵蟻\"] += 1\n",
    "        if \"截頭堆沙工蟻\" in path:\n",
    "            counts[\"截頭堆沙工蟻\"] += 1\n",
    "        if \"黃肢散兵蟻\" in path:\n",
    "            counts[\"黃肢散兵蟻\"] += 1\n",
    "        if \"黃肢散工蟻\" in path:\n",
    "            counts[\"黃肢散工蟻\"] += 1\n",
    "    print(Locations, counts)"
   ]
  },
  {
   "cell_type": "code",
   "execution_count": 8,
   "metadata": {},
   "outputs": [],
   "source": [
    "BATCH_SIZE = 64\n",
    "EPOCH = 164\n",
    "LearningRate = 0.0001\n",
    "Momentum = 0.9\n",
    "TrainFile = \"/home/ytliu/Termite-Bonnie/PAPER_termite/BENCHMARK-LARGE_Ind_trainfile_army_2.txt\"\n",
    "ValFile = \"/home/ytliu/Termite-Bonnie/PAPER_termite//BENCHMARK-LARGE_Ind_valfile_army_2.txt\"\n",
    "TestFile = \"/home/ytliu/Termite-Bonnie/PAPER_termite/BENCHMARK-LARGE_Ind_testfile_army_2.txt\"\n",
    "classes = [\"O.f Army\",\"C.f Army\",\"C.d Army\", \"R.f Army\"]\n",
    "model_directory = \"/home/ytliu/Termite-Bonnie/PAPER_termite/*BENCH_test_time2/\""
   ]
  },
  {
   "cell_type": "code",
   "execution_count": 9,
   "metadata": {},
   "outputs": [
    {
     "name": "stdout",
     "output_type": "stream",
     "text": [
      "TrainFile :  /home/ytliu/Termite-Bonnie/PAPER_termite/BENCHMARK-LARGE_Ind_trainfile_army_2.txt\n",
      "ValidationFile :  /home/ytliu/Termite-Bonnie/PAPER_termite//BENCHMARK-LARGE_Ind_valfile_army_2.txt\n",
      "TestFile :  /home/ytliu/Termite-Bonnie/PAPER_termite/BENCHMARK-LARGE_Ind_testfile_army_2.txt\n",
      "{'L1': 3200, 'L2': 0, 'L3': 3200} {'台灣土白蟻兵蟻': 1600, '台灣土白蟻工蟻': 0, '台灣家白蟻兵蟻': 1600, '台灣家白蟻工蟻': 0, '截頭堆沙兵蟻': 1600, '截頭堆沙工蟻': 0, '黃肢散工蟻': 0, '黃肢散兵蟻': 1600}\n",
      "{'L1': 800, 'L2': 0, 'L3': 800} {'台灣土白蟻兵蟻': 400, '台灣土白蟻工蟻': 0, '台灣家白蟻兵蟻': 400, '台灣家白蟻工蟻': 0, '截頭堆沙兵蟻': 400, '截頭堆沙工蟻': 0, '黃肢散工蟻': 0, '黃肢散兵蟻': 400}\n",
      "{'L1': 0, 'L2': 4000, 'L3': 0} {'台灣土白蟻兵蟻': 1000, '台灣土白蟻工蟻': 0, '台灣家白蟻兵蟻': 1000, '台灣家白蟻工蟻': 0, '截頭堆沙兵蟻': 1000, '截頭堆沙工蟻': 0, '黃肢散工蟻': 0, '黃肢散兵蟻': 1000}\n"
     ]
    }
   ],
   "source": [
    "print(\"TrainFile : \", TrainFile)\n",
    "print(\"ValidationFile : \", ValFile)\n",
    "print(\"TestFile : \", TestFile)\n",
    "CheckFile(TrainFile)\n",
    "CheckFile(ValFile)\n",
    "CheckFile(TestFile)"
   ]
  },
  {
   "cell_type": "code",
   "execution_count": 10,
   "metadata": {},
   "outputs": [
    {
     "name": "stdout",
     "output_type": "stream",
     "text": [
      "1.3.0\n",
      "0\n"
     ]
    }
   ],
   "source": [
    "import torchvision.models as models\n",
    "import os\n",
    "# from MobileNetV2 import MobileNetV2\n",
    "print(torch.__version__)\n",
    "# torch.cuda.set_device(0)\n",
    "print(torch.cuda.current_device())\n",
    "# mobilenet =  MobileNetV2(n_class=len(classes)).cuda()\n",
    "mobilenet =  nn.Sequential(models.mobilenet_v2(pretrained=True), nn.Linear(1000, len(classes))).cuda()"
   ]
  },
  {
   "cell_type": "code",
   "execution_count": 11,
   "metadata": {},
   "outputs": [],
   "source": [
    "model = mobilenet\n",
    "# model = MobileNet(len(classes))\n",
    "# model.to(cuda)\n",
    "# model = model.cuda()\n",
    "model = model\n",
    "criterion = nn.CrossEntropyLoss()\n",
    "optimizer = optim.SGD(model.parameters(), lr=LearningRate, momentum=Momentum)"
   ]
  },
  {
   "cell_type": "code",
   "execution_count": 12,
   "metadata": {},
   "outputs": [],
   "source": [
    "transform = transform_set(train=True)\n",
    "trainset = TermiteDataset(TrainFile, transform)\n",
    "trainloader = Data.DataLoader(\n",
    "    dataset=trainset,      # torch TensorDataset format\n",
    "    batch_size=BATCH_SIZE,      # mini batch size\n",
    "    shuffle=True,               # 要不要打乱数据 (打乱比较好)\n",
    "    num_workers=0,              # 多线程来读数据\n",
    ")"
   ]
  },
  {
   "cell_type": "code",
   "execution_count": 13,
   "metadata": {},
   "outputs": [],
   "source": [
    "transform2 = transform_set(train=False)\n",
    "valset = TermiteDataset(ValFile, transform2)\n",
    "valloader = Data.DataLoader(\n",
    "    dataset=valset,      # torch TensorDataset format\n",
    "    batch_size=BATCH_SIZE,      # mini batch size\n",
    "    shuffle=True,               # 要不要打乱数据 (打乱比较好)\n",
    "    num_workers=0,              # 多线程来读数据\n",
    ")"
   ]
  },
  {
   "cell_type": "code",
   "execution_count": 14,
   "metadata": {},
   "outputs": [],
   "source": [
    "# for labels, images in loader:\n",
    "#     print(labels.shape)\n",
    "#     print(images.shape)\n",
    "#     ssssss"
   ]
  },
  {
   "cell_type": "markdown",
   "metadata": {},
   "source": [
    "# TRAIN\n",
    "### \n",
    "### validation"
   ]
  },
  {
   "cell_type": "code",
   "execution_count": null,
   "metadata": {},
   "outputs": [],
   "source": []
  },
  {
   "cell_type": "code",
   "execution_count": 15,
   "metadata": {
    "collapsed": true,
    "jupyter": {
     "outputs_hidden": true
    }
   },
   "outputs": [
    {
     "name": "stdout",
     "output_type": "stream",
     "text": [
      "Train\n",
      "[1, 00020] loss: 24.399 acc: 0.509\n",
      "[1, 00040] loss: 33.379 acc: 0.680\n",
      "[1, 00060] loss: 38.610 acc: 0.758\n",
      "[1, 00080] loss: 42.364 acc: 0.804\n",
      "[1, 00100] loss: 45.437 acc: 0.833\n",
      "[0.83328125]\n",
      "[45.43700136244297]\n"
     ]
    },
    {
     "data": {
      "image/png": "[encoded data removed]",
      "text/plain": [
       "<Figure size 432x288 with 1 Axes>"
      ]
     },
     "metadata": {
      "needs_background": "light"
     },
     "output_type": "display_data"
    },
    {
     "data": {
      "image/png": "[encoded data removed]",
      "text/plain": [
       "<Figure size 432x288 with 1 Axes>"
      ]
     },
     "metadata": {
      "needs_background": "light"
     },
     "output_type": "display_data"
    },
    {
     "name": "stdout",
     "output_type": "stream",
     "text": [
      "Validation\n",
      "[0.96125]\n",
      "[3.2958939597010612]\n"
     ]
    },
    {
     "data": {
      "image/png": "[encoded data removed]",
      "text/plain": [
       "<Figure size 432x288 with 1 Axes>"
      ]
     },
     "metadata": {
      "needs_background": "light"
     },
     "output_type": "display_data"
    },
    {
     "data": {
      "image/png": "[encoded data removed]",
      "text/plain": [
       "<Figure size 432x288 with 1 Axes>"
      ]
     },
     "metadata": {
      "needs_background": "light"
     },
     "output_type": "display_data"
    },
    {
     "name": "stdout",
     "output_type": "stream",
     "text": [
      "\n",
      "[1] accuracy: 0.961 loss: 3.296\n",
      "\n",
      "64.80799603462219\n",
      "Train\n",
      "[2, 00020] loss: 2.111 acc: 0.970\n",
      "[2, 00040] loss: 3.937 acc: 0.971\n",
      "[2, 00060] loss: 5.605 acc: 0.972\n",
      "[2, 00080] loss: 7.114 acc: 0.974\n",
      "[2, 00100] loss: 8.782 acc: 0.975\n",
      "[0.83328125, 0.97453125]\n",
      "[45.43700136244297, 8.782282751053572]\n"
     ]
    },
    {
     "ename": "KeyboardInterrupt",
     "evalue": "",
     "output_type": "error",
     "traceback": [
      "\u001b[0;31m---------------------------------------------------------------------------\u001b[0m",
      "\u001b[0;31mKeyboardInterrupt\u001b[0m                         Traceback (most recent call last)",
      "\u001b[0;32m<ipython-input-15-893223fe728b>\u001b[0m in \u001b[0;36m<module>\u001b[0;34m\u001b[0m\n\u001b[1;32m     41\u001b[0m     \u001b[0mplt\u001b[0m\u001b[0;34m.\u001b[0m\u001b[0mfigure\u001b[0m\u001b[0;34m(\u001b[0m\u001b[0;34m)\u001b[0m\u001b[0;34m\u001b[0m\u001b[0;34m\u001b[0m\u001b[0m\n\u001b[1;32m     42\u001b[0m     \u001b[0mplt\u001b[0m\u001b[0;34m.\u001b[0m\u001b[0mplot\u001b[0m\u001b[0;34m(\u001b[0m\u001b[0mrange\u001b[0m\u001b[0;34m(\u001b[0m\u001b[0;36m0\u001b[0m\u001b[0;34m,\u001b[0m\u001b[0mepoch\u001b[0m\u001b[0;34m+\u001b[0m\u001b[0;36m1\u001b[0m\u001b[0;34m)\u001b[0m\u001b[0;34m,\u001b[0m \u001b[0mtrain_acc\u001b[0m\u001b[0;34m)\u001b[0m\u001b[0;34m\u001b[0m\u001b[0;34m\u001b[0m\u001b[0m\n\u001b[0;32m---> 43\u001b[0;31m     \u001b[0mplt\u001b[0m\u001b[0;34m.\u001b[0m\u001b[0msavefig\u001b[0m\u001b[0;34m(\u001b[0m\u001b[0mmodel_directory\u001b[0m \u001b[0;34m+\u001b[0m \u001b[0;34m\"train_acc_E%03d.jpg\"\u001b[0m \u001b[0;34m%\u001b[0m \u001b[0;34m(\u001b[0m\u001b[0mepoch\u001b[0m\u001b[0;34m+\u001b[0m\u001b[0;36m1\u001b[0m\u001b[0;34m)\u001b[0m\u001b[0;34m,\u001b[0m \u001b[0mdpi\u001b[0m\u001b[0;34m=\u001b[0m\u001b[0;36m500\u001b[0m\u001b[0;34m)\u001b[0m\u001b[0;34m\u001b[0m\u001b[0;34m\u001b[0m\u001b[0m\n\u001b[0m\u001b[1;32m     44\u001b[0m     \u001b[0mplt\u001b[0m\u001b[0;34m.\u001b[0m\u001b[0mshow\u001b[0m\u001b[0;34m(\u001b[0m\u001b[0;34m)\u001b[0m\u001b[0;34m\u001b[0m\u001b[0;34m\u001b[0m\u001b[0m\n\u001b[1;32m     45\u001b[0m     \u001b[0mplt\u001b[0m\u001b[0;34m.\u001b[0m\u001b[0mfigure\u001b[0m\u001b[0;34m(\u001b[0m\u001b[0;34m)\u001b[0m\u001b[0;34m\u001b[0m\u001b[0;34m\u001b[0m\u001b[0m\n",
      "\u001b[0;32m~/miniconda3/envs/Bonnie-pytorch/lib/python3.7/site-packages/matplotlib/pyplot.py\u001b[0m in \u001b[0;36msavefig\u001b[0;34m(*args, **kwargs)\u001b[0m\n\u001b[1;32m    687\u001b[0m \u001b[0;32mdef\u001b[0m \u001b[0msavefig\u001b[0m\u001b[0;34m(\u001b[0m\u001b[0;34m*\u001b[0m\u001b[0margs\u001b[0m\u001b[0;34m,\u001b[0m \u001b[0;34m**\u001b[0m\u001b[0mkwargs\u001b[0m\u001b[0;34m)\u001b[0m\u001b[0;34m:\u001b[0m\u001b[0;34m\u001b[0m\u001b[0;34m\u001b[0m\u001b[0m\n\u001b[1;32m    688\u001b[0m     \u001b[0mfig\u001b[0m \u001b[0;34m=\u001b[0m \u001b[0mgcf\u001b[0m\u001b[0;34m(\u001b[0m\u001b[0;34m)\u001b[0m\u001b[0;34m\u001b[0m\u001b[0;34m\u001b[0m\u001b[0m\n\u001b[0;32m--> 689\u001b[0;31m     \u001b[0mres\u001b[0m \u001b[0;34m=\u001b[0m \u001b[0mfig\u001b[0m\u001b[0;34m.\u001b[0m\u001b[0msavefig\u001b[0m\u001b[0;34m(\u001b[0m\u001b[0;34m*\u001b[0m\u001b[0margs\u001b[0m\u001b[0;34m,\u001b[0m \u001b[0;34m**\u001b[0m\u001b[0mkwargs\u001b[0m\u001b[0;34m)\u001b[0m\u001b[0;34m\u001b[0m\u001b[0;34m\u001b[0m\u001b[0m\n\u001b[0m\u001b[1;32m    690\u001b[0m     \u001b[0mfig\u001b[0m\u001b[0;34m.\u001b[0m\u001b[0mcanvas\u001b[0m\u001b[0;34m.\u001b[0m\u001b[0mdraw_idle\u001b[0m\u001b[0;34m(\u001b[0m\u001b[0;34m)\u001b[0m   \u001b[0;31m# need this if 'transparent=True' to reset colors\u001b[0m\u001b[0;34m\u001b[0m\u001b[0;34m\u001b[0m\u001b[0m\n\u001b[1;32m    691\u001b[0m     \u001b[0;32mreturn\u001b[0m \u001b[0mres\u001b[0m\u001b[0;34m\u001b[0m\u001b[0;34m\u001b[0m\u001b[0m\n",
      "\u001b[0;32m~/miniconda3/envs/Bonnie-pytorch/lib/python3.7/site-packages/matplotlib/figure.py\u001b[0m in \u001b[0;36msavefig\u001b[0;34m(self, fname, frameon, transparent, **kwargs)\u001b[0m\n\u001b[1;32m   2092\u001b[0m             \u001b[0mself\u001b[0m\u001b[0;34m.\u001b[0m\u001b[0mset_frameon\u001b[0m\u001b[0;34m(\u001b[0m\u001b[0mframeon\u001b[0m\u001b[0;34m)\u001b[0m\u001b[0;34m\u001b[0m\u001b[0;34m\u001b[0m\u001b[0m\n\u001b[1;32m   2093\u001b[0m \u001b[0;34m\u001b[0m\u001b[0m\n\u001b[0;32m-> 2094\u001b[0;31m         \u001b[0mself\u001b[0m\u001b[0;34m.\u001b[0m\u001b[0mcanvas\u001b[0m\u001b[0;34m.\u001b[0m\u001b[0mprint_figure\u001b[0m\u001b[0;34m(\u001b[0m\u001b[0mfname\u001b[0m\u001b[0;34m,\u001b[0m \u001b[0;34m**\u001b[0m\u001b[0mkwargs\u001b[0m\u001b[0;34m)\u001b[0m\u001b[0;34m\u001b[0m\u001b[0;34m\u001b[0m\u001b[0m\n\u001b[0m\u001b[1;32m   2095\u001b[0m \u001b[0;34m\u001b[0m\u001b[0m\n\u001b[1;32m   2096\u001b[0m         \u001b[0;32mif\u001b[0m \u001b[0mframeon\u001b[0m\u001b[0;34m:\u001b[0m\u001b[0;34m\u001b[0m\u001b[0;34m\u001b[0m\u001b[0m\n",
      "\u001b[0;32m~/miniconda3/envs/Bonnie-pytorch/lib/python3.7/site-packages/matplotlib/backend_bases.py\u001b[0m in \u001b[0;36mprint_figure\u001b[0;34m(self, filename, dpi, facecolor, edgecolor, orientation, format, bbox_inches, **kwargs)\u001b[0m\n\u001b[1;32m   2073\u001b[0m                     \u001b[0morientation\u001b[0m\u001b[0;34m=\u001b[0m\u001b[0morientation\u001b[0m\u001b[0;34m,\u001b[0m\u001b[0;34m\u001b[0m\u001b[0;34m\u001b[0m\u001b[0m\n\u001b[1;32m   2074\u001b[0m                     \u001b[0mbbox_inches_restore\u001b[0m\u001b[0;34m=\u001b[0m\u001b[0m_bbox_inches_restore\u001b[0m\u001b[0;34m,\u001b[0m\u001b[0;34m\u001b[0m\u001b[0;34m\u001b[0m\u001b[0m\n\u001b[0;32m-> 2075\u001b[0;31m                     **kwargs)\n\u001b[0m\u001b[1;32m   2076\u001b[0m             \u001b[0;32mfinally\u001b[0m\u001b[0;34m:\u001b[0m\u001b[0;34m\u001b[0m\u001b[0;34m\u001b[0m\u001b[0m\n\u001b[1;32m   2077\u001b[0m                 \u001b[0;32mif\u001b[0m \u001b[0mbbox_inches\u001b[0m \u001b[0;32mand\u001b[0m \u001b[0mrestore_bbox\u001b[0m\u001b[0;34m:\u001b[0m\u001b[0;34m\u001b[0m\u001b[0;34m\u001b[0m\u001b[0m\n",
      "\u001b[0;32m~/miniconda3/envs/Bonnie-pytorch/lib/python3.7/site-packages/matplotlib/backends/backend_agg.py\u001b[0m in \u001b[0;36mprint_jpg\u001b[0;34m(self, filename_or_obj, dryrun, *args, **kwargs)\u001b[0m\n\u001b[1;32m    576\u001b[0m                 \u001b[0moptions\u001b[0m\u001b[0;34m[\u001b[0m\u001b[0;34m'dpi'\u001b[0m\u001b[0;34m]\u001b[0m \u001b[0;34m=\u001b[0m \u001b[0;34m(\u001b[0m\u001b[0moptions\u001b[0m\u001b[0;34m[\u001b[0m\u001b[0;34m'dpi'\u001b[0m\u001b[0;34m]\u001b[0m\u001b[0;34m,\u001b[0m \u001b[0moptions\u001b[0m\u001b[0;34m[\u001b[0m\u001b[0;34m'dpi'\u001b[0m\u001b[0;34m]\u001b[0m\u001b[0;34m)\u001b[0m\u001b[0;34m\u001b[0m\u001b[0;34m\u001b[0m\u001b[0m\n\u001b[1;32m    577\u001b[0m \u001b[0;34m\u001b[0m\u001b[0m\n\u001b[0;32m--> 578\u001b[0;31m             \u001b[0;32mreturn\u001b[0m \u001b[0mbackground\u001b[0m\u001b[0;34m.\u001b[0m\u001b[0msave\u001b[0m\u001b[0;34m(\u001b[0m\u001b[0mfilename_or_obj\u001b[0m\u001b[0;34m,\u001b[0m \u001b[0mformat\u001b[0m\u001b[0;34m=\u001b[0m\u001b[0;34m'jpeg'\u001b[0m\u001b[0;34m,\u001b[0m \u001b[0;34m**\u001b[0m\u001b[0moptions\u001b[0m\u001b[0;34m)\u001b[0m\u001b[0;34m\u001b[0m\u001b[0;34m\u001b[0m\u001b[0m\n\u001b[0m\u001b[1;32m    579\u001b[0m         \u001b[0mprint_jpeg\u001b[0m \u001b[0;34m=\u001b[0m \u001b[0mprint_jpg\u001b[0m\u001b[0;34m\u001b[0m\u001b[0;34m\u001b[0m\u001b[0m\n\u001b[1;32m    580\u001b[0m \u001b[0;34m\u001b[0m\u001b[0m\n",
      "\u001b[0;32m~/.local/lib/python3.7/site-packages/PIL/Image.py\u001b[0m in \u001b[0;36msave\u001b[0;34m(self, fp, format, **params)\u001b[0m\n\u001b[1;32m   1992\u001b[0m \u001b[0;34m\u001b[0m\u001b[0m\n\u001b[1;32m   1993\u001b[0m         \u001b[0;32mtry\u001b[0m\u001b[0;34m:\u001b[0m\u001b[0;34m\u001b[0m\u001b[0;34m\u001b[0m\u001b[0m\n\u001b[0;32m-> 1994\u001b[0;31m             \u001b[0msave_handler\u001b[0m\u001b[0;34m(\u001b[0m\u001b[0mself\u001b[0m\u001b[0;34m,\u001b[0m \u001b[0mfp\u001b[0m\u001b[0;34m,\u001b[0m \u001b[0mfilename\u001b[0m\u001b[0;34m)\u001b[0m\u001b[0;34m\u001b[0m\u001b[0;34m\u001b[0m\u001b[0m\n\u001b[0m\u001b[1;32m   1995\u001b[0m         \u001b[0;32mfinally\u001b[0m\u001b[0;34m:\u001b[0m\u001b[0;34m\u001b[0m\u001b[0;34m\u001b[0m\u001b[0m\n\u001b[1;32m   1996\u001b[0m             \u001b[0;31m# do what we can to clean up\u001b[0m\u001b[0;34m\u001b[0m\u001b[0;34m\u001b[0m\u001b[0;34m\u001b[0m\u001b[0m\n",
      "\u001b[0;32m~/.local/lib/python3.7/site-packages/PIL/JpegImagePlugin.py\u001b[0m in \u001b[0;36m_save\u001b[0;34m(im, fp, filename)\u001b[0m\n\u001b[1;32m    759\u001b[0m                   len(extra) + 1)\n\u001b[1;32m    760\u001b[0m \u001b[0;34m\u001b[0m\u001b[0m\n\u001b[0;32m--> 761\u001b[0;31m     \u001b[0mImageFile\u001b[0m\u001b[0;34m.\u001b[0m\u001b[0m_save\u001b[0m\u001b[0;34m(\u001b[0m\u001b[0mim\u001b[0m\u001b[0;34m,\u001b[0m \u001b[0mfp\u001b[0m\u001b[0;34m,\u001b[0m \u001b[0;34m[\u001b[0m\u001b[0;34m(\u001b[0m\u001b[0;34m\"jpeg\"\u001b[0m\u001b[0;34m,\u001b[0m \u001b[0;34m(\u001b[0m\u001b[0;36m0\u001b[0m\u001b[0;34m,\u001b[0m \u001b[0;36m0\u001b[0m\u001b[0;34m)\u001b[0m\u001b[0;34m+\u001b[0m\u001b[0mim\u001b[0m\u001b[0;34m.\u001b[0m\u001b[0msize\u001b[0m\u001b[0;34m,\u001b[0m \u001b[0;36m0\u001b[0m\u001b[0;34m,\u001b[0m \u001b[0mrawmode\u001b[0m\u001b[0;34m)\u001b[0m\u001b[0;34m]\u001b[0m\u001b[0;34m,\u001b[0m \u001b[0mbufsize\u001b[0m\u001b[0;34m)\u001b[0m\u001b[0;34m\u001b[0m\u001b[0;34m\u001b[0m\u001b[0m\n\u001b[0m\u001b[1;32m    762\u001b[0m \u001b[0;34m\u001b[0m\u001b[0m\n\u001b[1;32m    763\u001b[0m \u001b[0;34m\u001b[0m\u001b[0m\n",
      "\u001b[0;32m~/.local/lib/python3.7/site-packages/PIL/ImageFile.py\u001b[0m in \u001b[0;36m_save\u001b[0;34m(im, fp, tile, bufsize)\u001b[0m\n\u001b[1;32m    517\u001b[0m                 \u001b[0ml\u001b[0m\u001b[0;34m,\u001b[0m \u001b[0ms\u001b[0m \u001b[0;34m=\u001b[0m \u001b[0me\u001b[0m\u001b[0;34m.\u001b[0m\u001b[0mencode_to_pyfd\u001b[0m\u001b[0;34m(\u001b[0m\u001b[0;34m)\u001b[0m\u001b[0;34m\u001b[0m\u001b[0;34m\u001b[0m\u001b[0m\n\u001b[1;32m    518\u001b[0m             \u001b[0;32melse\u001b[0m\u001b[0;34m:\u001b[0m\u001b[0;34m\u001b[0m\u001b[0;34m\u001b[0m\u001b[0m\n\u001b[0;32m--> 519\u001b[0;31m                 \u001b[0ms\u001b[0m \u001b[0;34m=\u001b[0m \u001b[0me\u001b[0m\u001b[0;34m.\u001b[0m\u001b[0mencode_to_file\u001b[0m\u001b[0;34m(\u001b[0m\u001b[0mfh\u001b[0m\u001b[0;34m,\u001b[0m \u001b[0mbufsize\u001b[0m\u001b[0;34m)\u001b[0m\u001b[0;34m\u001b[0m\u001b[0;34m\u001b[0m\u001b[0m\n\u001b[0m\u001b[1;32m    520\u001b[0m             \u001b[0;32mif\u001b[0m \u001b[0ms\u001b[0m \u001b[0;34m<\u001b[0m \u001b[0;36m0\u001b[0m\u001b[0;34m:\u001b[0m\u001b[0;34m\u001b[0m\u001b[0;34m\u001b[0m\u001b[0m\n\u001b[1;32m    521\u001b[0m                 \u001b[0;32mraise\u001b[0m \u001b[0mIOError\u001b[0m\u001b[0;34m(\u001b[0m\u001b[0;34m\"encoder error %d when writing image file\"\u001b[0m \u001b[0;34m%\u001b[0m \u001b[0ms\u001b[0m\u001b[0;34m)\u001b[0m\u001b[0;34m\u001b[0m\u001b[0;34m\u001b[0m\u001b[0m\n",
      "\u001b[0;31mKeyboardInterrupt\u001b[0m: "
     ]
    },
    {
     "data": {
      "image/png": "[encoded data removed]",
      "text/plain": [
       "<Figure size 432x288 with 1 Axes>"
      ]
     },
     "metadata": {
      "needs_background": "light"
     },
     "output_type": "display_data"
    }
   ],
   "source": [
    "train_acc = []\n",
    "train_loss = []\n",
    "val_acc = []\n",
    "val_loss = []\n",
    "import time\n",
    "start = time.time()\n",
    "for epoch in range(EPOCH):\n",
    "    print(\"Train\")\n",
    "    total = 0\n",
    "    correct = 0\n",
    "    running_loss = 0.0\n",
    "    for step, (labels, images,_) in enumerate(trainloader):\n",
    "        optimizer.zero_grad()\n",
    "#         print(\"in Train: \", images.shape, labels.shape)\n",
    "#         images = images.detach()\n",
    "#         labels = labels.detach()\n",
    "        images = images.detach().cuda()\n",
    "        labels = labels.detach().cuda()\n",
    "        outputs = model(images)\n",
    "        \n",
    "        # loss\n",
    "        loss = criterion(outputs, labels)\n",
    "        loss.backward()\n",
    "        optimizer.step()\n",
    "        running_loss += loss.item()\n",
    "        \n",
    "        # accuracy\n",
    "        _, predicted = torch.max(outputs.data, 1)\n",
    "        total += labels.size(0)\n",
    "        correct += (predicted == labels).sum().item()\n",
    "        acc = correct / total\n",
    "\n",
    "        if step % 20 == 19:    # print every 2000 mini-batches\n",
    "            print('[%d, %05d] loss: %.3f acc: %.3f' %\n",
    "                  (epoch + 1, step + 1, running_loss, acc))\n",
    "\n",
    "    train_acc.append(acc)\n",
    "    train_loss.append(running_loss)\n",
    "    print(train_acc)\n",
    "    print(train_loss)\n",
    "    plt.figure()\n",
    "    plt.plot(range(0,epoch+1), train_acc)\n",
    "    plt.savefig(model_directory + \"train_acc_E%03d.jpg\" % (epoch+1), dpi=500)\n",
    "    plt.show()\n",
    "    plt.figure()\n",
    "    plt.plot(range(0,epoch+1), train_loss)\n",
    "    plt.savefig(model_directory + \"train_loss_E%03d.jpg\" % (epoch+1), dpi=500)\n",
    "    plt.show()\n",
    "    \n",
    "    # Evaluate validation set\n",
    "    print(\"Validation\")\n",
    "    total = 0\n",
    "    correct = 0\n",
    "    running_loss = 0.0\n",
    "    for step, (labels, images,_) in enumerate(valloader):\n",
    "        optimizer.zero_grad()\n",
    "        images = images.detach().cuda()\n",
    "        labels = labels.detach().cuda()\n",
    "#         images = images.detach()\n",
    "#         labels = labels.detach()\n",
    "        outputs = model(images)\n",
    "        loss = criterion(outputs, labels)\n",
    "        _, predicted = torch.max(outputs.data, 1)\n",
    "        running_loss += loss.item()\n",
    "        total += labels.size(0)\n",
    "        correct += (predicted == labels).sum().item()\n",
    "        acc = correct / total\n",
    "    \n",
    "    val_acc.append(acc)\n",
    "    val_loss.append(running_loss)\n",
    "    print(val_acc)\n",
    "    print(val_loss)\n",
    "    plt.figure()\n",
    "    plt.plot(range(0,epoch+1), val_acc)\n",
    "    plt.savefig(model_directory + \"val_acc_E%03d.jpg\" % (epoch+1), dpi=500)\n",
    "    plt.show()\n",
    "    plt.figure()\n",
    "    plt.plot(range(0,epoch+1), val_loss)\n",
    "    plt.savefig(model_directory + \"val_loss_E%03d.jpg\" % (epoch+1), dpi=500)\n",
    "    plt.show()\n",
    "    \n",
    "    print('\\n[%d] accuracy: %.3f loss: %.3f\\n' % (epoch + 1, acc, running_loss))\n",
    "    running_loss = 0.0\n",
    "    # Saving model\n",
    "    model_path = PJ(model_directory, \"%03d_weights.pt\" % (epoch+1))\n",
    "    torch.save(model.state_dict(), model_path)\n",
    "    print(time.time() - start)"
   ]
  },
  {
   "cell_type": "code",
   "execution_count": 16,
   "metadata": {},
   "outputs": [],
   "source": [
    "resultfile = open(model_directory+\"train_results.txt\", \"a\")\n",
    "resultfile.write(\"train\")\n",
    "resultfile.write(str(train_acc))\n",
    "resultfile.write(\"\\n\")\n",
    "resultfile.write(str(train_loss))\n",
    "resultfile.write(\"\\n\")\n",
    "resultfile.write(\"validation\")\n",
    "resultfile.write(\"\\n\")\n",
    "resultfile.write(str(val_acc))\n",
    "resultfile.write(\"\\n\")\n",
    "resultfile.write(str(val_loss))\n",
    "resultfile.write(\"\\n\")\n",
    "resultfile.close()"
   ]
  },
  {
   "cell_type": "markdown",
   "metadata": {
    "jupyter": {
     "source_hidden": true
    }
   },
   "source": [
    "# TEST\n",
    "### evaluate\n",
    "### test every model\n",
    "### saliency map"
   ]
  },
  {
   "cell_type": "code",
   "execution_count": 16,
   "metadata": {
    "jupyter": {
     "source_hidden": true
    }
   },
   "outputs": [],
   "source": [
    "transform = transform_set(train=False)\n",
    "testset = TermiteDataset(TestFile, transform)\n",
    "testloader = Data.DataLoader(\n",
    "    dataset=testset,      # torch TensorDataset format\n",
    "    batch_size=BATCH_SIZE,      # mini batch size\n",
    "    shuffle=True,               # 要不要打乱数据 (打乱比较好)\n",
    "    num_workers=0,              # 线程来读数据\n",
    ")"
   ]
  },
  {
   "cell_type": "code",
   "execution_count": null,
   "metadata": {},
   "outputs": [],
   "source": []
  },
  {
   "cell_type": "code",
   "execution_count": 17,
   "metadata": {
    "collapsed": true,
    "jupyter": {
     "outputs_hidden": true,
     "source_hidden": true
    }
   },
   "outputs": [
    {
     "name": "stdout",
     "output_type": "stream",
     "text": [
      "\n",
      "[1] accuracy: 0.921 loss: 14.844\n",
      "\n",
      "[0.921]\n",
      "[14.843939952552319]\n"
     ]
    },
    {
     "data": {
      "image/png": "[encoded data removed]",
      "text/plain": [
       "<Figure size 432x288 with 1 Axes>"
      ]
     },
     "metadata": {
      "needs_background": "light"
     },
     "output_type": "display_data"
    },
    {
     "data": {
      "image/png": "[encoded data removed]",
      "text/plain": [
       "<Figure size 432x288 with 1 Axes>"
      ]
     },
     "metadata": {
      "needs_background": "light"
     },
     "output_type": "display_data"
    },
    {
     "name": "stdout",
     "output_type": "stream",
     "text": [
      "[0, 1, 0, 1, 3, 3, 1, 3, 1, 1, 1, 1, 0, 3, 2, 1, 0, 0, 0, 0, 0, 1, 0, 1, 1, 1, 1, 1, 3, 2, 0, 0, 2, 3, 0, 0, 0, 1, 1, 0, 1, 0, 2, 2, 1, 0, 1, 2, 2, 0, 2, 1, 3, 0, 1, 1, 1, 0, 1, 2, 2, 3, 0, 1, 1, 1, 3, 0, 0, 3, 1, 1, 2, 1, 3, 0, 0, 1, 3, 0, 0, 2, 1, 1, 1, 1, 0, 2, 1, 3, 1, 1, 1, 2, 2, 3, 2, 3, 1, 1, 3, 0, 1, 3, 1, 0, 3, 1, 1, 2, 3, 1, 2, 0, 1, 0, 3, 2, 1, 0, 2, 1, 0, 1, 1, 0, 0, 1, 1, 0, 0, 3, 2, 0, 1, 1, 1, 1, 0, 0, 2, 0, 0, 2, 0, 1, 0, 0, 1, 1, 1, 1, 3, 1, 1, 1, 0, 1, 1, 0, 3, 1, 0, 0, 3, 0, 0, 1, 1, 3, 0, 1, 2, 1, 0, 1, 1, 0, 0, 3, 0, 1, 1, 1, 2, 1, 1, 1, 2, 1, 2, 3, 1, 2, 1, 1, 1, 0, 0, 0, 1, 0, 0, 2, 1, 1, 2, 1, 2, 0, 1, 1, 2, 1, 1, 1, 1, 2, 3, 0, 3, 0, 1, 1, 1, 1, 1, 1, 1, 3, 3, 3, 1, 0, 1, 1, 1, 0, 1, 1, 3, 0, 1, 1, 1, 1, 0, 1, 3, 2, 1, 2, 0, 3, 0, 0, 1, 0, 2, 2, 0, 2, 1, 1, 1, 2, 0, 3, 0, 2, 2, 1, 1, 0, 1, 1, 1, 2, 1, 0, 1, 1, 1, 2, 1, 1, 1, 0, 0, 1, 1, 1, 1, 0, 0, 0, 3, 0, 1, 1, 1, 0, 1, 0, 0, 0, 1, 2, 1, 0, 1, 0, 2, 2, 1, 0]\n",
      "             O.f Soldier  C.f Soldier  C.d Soldier  R.f Soldier\n",
      "O.f Soldier          838          106           41           15\n",
      "C.f Soldier           47          929            3           21\n",
      "C.d Soldier            2            0          997            1\n",
      "R.f Soldier           42           36            2          920\n"
     ]
    },
    {
     "data": {
      "image/png": "[encoded data removed]",
      "text/plain": [
       "<Figure size 432x288 with 2 Axes>"
      ]
     },
     "metadata": {},
     "output_type": "display_data"
    },
    {
     "name": "stdout",
     "output_type": "stream",
     "text": [
      "30.614686012268066\n"
     ]
    },
    {
     "ename": "RuntimeError",
     "evalue": "Error(s) in loading state_dict for Sequential:\n\tsize mismatch for 1.weight: copying a param with shape torch.Size([8, 1000]) from checkpoint, the shape in current model is torch.Size([4, 1000]).\n\tsize mismatch for 1.bias: copying a param with shape torch.Size([8]) from checkpoint, the shape in current model is torch.Size([4]).",
     "output_type": "error",
     "traceback": [
      "\u001b[0;31m---------------------------------------------------------------------------\u001b[0m",
      "\u001b[0;31mRuntimeError\u001b[0m                              Traceback (most recent call last)",
      "\u001b[0;32m<ipython-input-17-bc598e0d5473>\u001b[0m in \u001b[0;36m<module>\u001b[0;34m\u001b[0m\n\u001b[1;32m     13\u001b[0m     \u001b[0mweight_path\u001b[0m \u001b[0;34m=\u001b[0m \u001b[0mmodel_directory\u001b[0m \u001b[0;34m+\u001b[0m \u001b[0;34m\"%03d_weights.pt\"\u001b[0m \u001b[0;34m%\u001b[0m \u001b[0;34m(\u001b[0m\u001b[0mmodel_num\u001b[0m\u001b[0;34m)\u001b[0m\u001b[0;34m\u001b[0m\u001b[0;34m\u001b[0m\u001b[0m\n\u001b[1;32m     14\u001b[0m     \u001b[0mstate_dict\u001b[0m \u001b[0;34m=\u001b[0m \u001b[0mtorch\u001b[0m\u001b[0;34m.\u001b[0m\u001b[0mload\u001b[0m\u001b[0;34m(\u001b[0m\u001b[0mweight_path\u001b[0m\u001b[0;34m)\u001b[0m\u001b[0;34m\u001b[0m\u001b[0;34m\u001b[0m\u001b[0m\n\u001b[0;32m---> 15\u001b[0;31m     \u001b[0mmodel\u001b[0m\u001b[0;34m.\u001b[0m\u001b[0mload_state_dict\u001b[0m\u001b[0;34m(\u001b[0m\u001b[0mstate_dict\u001b[0m\u001b[0;34m)\u001b[0m\u001b[0;34m\u001b[0m\u001b[0;34m\u001b[0m\u001b[0m\n\u001b[0m\u001b[1;32m     16\u001b[0m     \u001b[0mrunning_loss\u001b[0m \u001b[0;34m=\u001b[0m \u001b[0;36m0.0\u001b[0m\u001b[0;34m\u001b[0m\u001b[0;34m\u001b[0m\u001b[0m\n\u001b[1;32m     17\u001b[0m     \u001b[0mtotal\u001b[0m \u001b[0;34m=\u001b[0m \u001b[0;36m0\u001b[0m\u001b[0;34m\u001b[0m\u001b[0;34m\u001b[0m\u001b[0m\n",
      "\u001b[0;32m~/miniconda3/envs/Bonnie-pytorch/lib/python3.7/site-packages/torch/nn/modules/module.py\u001b[0m in \u001b[0;36mload_state_dict\u001b[0;34m(self, state_dict, strict)\u001b[0m\n\u001b[1;32m    837\u001b[0m         \u001b[0;32mif\u001b[0m \u001b[0mlen\u001b[0m\u001b[0;34m(\u001b[0m\u001b[0merror_msgs\u001b[0m\u001b[0;34m)\u001b[0m \u001b[0;34m>\u001b[0m \u001b[0;36m0\u001b[0m\u001b[0;34m:\u001b[0m\u001b[0;34m\u001b[0m\u001b[0;34m\u001b[0m\u001b[0m\n\u001b[1;32m    838\u001b[0m             raise RuntimeError('Error(s) in loading state_dict for {}:\\n\\t{}'.format(\n\u001b[0;32m--> 839\u001b[0;31m                                self.__class__.__name__, \"\\n\\t\".join(error_msgs)))\n\u001b[0m\u001b[1;32m    840\u001b[0m         \u001b[0;32mreturn\u001b[0m \u001b[0m_IncompatibleKeys\u001b[0m\u001b[0;34m(\u001b[0m\u001b[0mmissing_keys\u001b[0m\u001b[0;34m,\u001b[0m \u001b[0munexpected_keys\u001b[0m\u001b[0;34m)\u001b[0m\u001b[0;34m\u001b[0m\u001b[0;34m\u001b[0m\u001b[0m\n\u001b[1;32m    841\u001b[0m \u001b[0;34m\u001b[0m\u001b[0m\n",
      "\u001b[0;31mRuntimeError\u001b[0m: Error(s) in loading state_dict for Sequential:\n\tsize mismatch for 1.weight: copying a param with shape torch.Size([8, 1000]) from checkpoint, the shape in current model is torch.Size([4, 1000]).\n\tsize mismatch for 1.bias: copying a param with shape torch.Size([8]) from checkpoint, the shape in current model is torch.Size([4])."
     ]
    }
   ],
   "source": [
    "import seaborn as sn\n",
    "import pandas as pd\n",
    "import matplotlib.pyplot as plt\n",
    "import time\n",
    "start = time.time()\n",
    "classes2 = [\"O.f Soldier\",\"C.f Soldier\", \"C.d Soldier\", \"R.f Soldier\"]\n",
    "test_acc = []\n",
    "test_loss = []\n",
    "for model_num in range(1, EPOCH+1):\n",
    "    wrong_images = []\n",
    "    wrong_answer = []\n",
    "    actual_answer = []\n",
    "    weight_path = model_directory + \"%03d_weights.pt\" % (model_num)\n",
    "    state_dict = torch.load(weight_path)\n",
    "    model.load_state_dict(state_dict)\n",
    "    running_loss = 0.0\n",
    "    total = 0\n",
    "    correct = 0\n",
    "    confusion_matrix = torch.zeros(len(classes2), len(classes2))\n",
    "    for step, (labels, images, paths) in enumerate(testloader):\n",
    "        optimizer.zero_grad()\n",
    "        images = images.detach().cuda()\n",
    "        labels = labels.detach().cuda()\n",
    "        outputs = model(images)\n",
    "        _, predicted = torch.max(outputs.data, 1)\n",
    "        # append to the wrong list (test log file)\n",
    "        for i in range(len(predicted)):\n",
    "            if predicted[i] != labels[i]:\n",
    "#                 print(paths[i], predicted[i], labels[i])\n",
    "                wrong_images.append(paths[i])\n",
    "                wrong_answer.append(predicted[i].item())\n",
    "                actual_answer.append(labels[i].item())\n",
    "        loss = criterion(outputs, labels)\n",
    "        running_loss += loss.item()\n",
    "        total += labels.size(0)\n",
    "        correct += (predicted == labels).sum().item()\n",
    "        for t, p in zip(labels.view(-1), predicted.view(-1)):\n",
    "#             print(t.item(), p.item())\n",
    "#             mapp = {0: 0,\n",
    "#                     2: 1,\n",
    "#                     4: 2,\n",
    "#                     6: 3}\n",
    "#             confusion_matrix[mapp[t.item()], mapp[p.item()]] += 1\n",
    "            confusion_matrix[t.item(), p.item()] += 1\n",
    "    \n",
    "    acc = correct / total\n",
    "    print('\\n[%d] accuracy: %.3f loss: %.3f\\n' % (model_num, acc, running_loss))\n",
    "    \n",
    "    test_acc.append(acc)\n",
    "    test_loss.append(running_loss)\n",
    "    print(test_acc)\n",
    "    print(test_loss)\n",
    "    plt.figure()\n",
    "    plt.plot(range(1,model_num+1), test_acc)\n",
    "    plt.savefig(model_directory + \"test_acc_E%03d.jpg\" % (model_num+1), dpi=500)\n",
    "    plt.show()\n",
    "    plt.figure()\n",
    "    plt.plot(range(1,model_num+1), test_loss)\n",
    "    plt.savefig(model_directory + \"test_loss_E%03d.jpg\" % (model_num+1), dpi=500)\n",
    "    plt.show()\n",
    "    \n",
    "    \n",
    "    print(wrong_answer)\n",
    "    with open(model_directory + \"%03d_wrong.txt\" % (model_num), 'w') as wrong:\n",
    "#         c = zip(wrong_images, wrong_answer, actual_answer)\n",
    "#         c = sorted(c)\n",
    "#         (wrong_images, wrong_answer, actual_answer) = zip(*c)\n",
    "#         print(wrong_images)\n",
    "        for i in range(len(wrong_images)):\n",
    "            wrong.write(wrong_images[i] + \" \" + classes2[wrong_answer[i]] + \" \" + classes2[actual_answer[i]])\n",
    "#             print(wrong_images[i] + \" \" + classes2[wrong_answer[i]] + \" \" + classes2[actual_answer[i]])\n",
    "            wrong.write(\"\\n\")\n",
    "        wrong.close()\n",
    "#     print(confusion_matrix)\n",
    "    confusion_matrix = confusion_matrix.numpy().astype(int)\n",
    "#     print(confusion_matrix)\n",
    "    df_cm = pd.DataFrame(confusion_matrix, index = [i for i in classes2],\n",
    "                  columns = [i for i in classes2])\n",
    "    print(df_cm)\n",
    "    sn.set(font_scale=1.4)#for label size\n",
    "#     print(classes2)\n",
    "    img = sn.heatmap(df_cm, annot=True,annot_kws={\"size\": 16}, fmt=\"d\")\n",
    "    figure = img.get_figure()\n",
    "    plt.tight_layout()\n",
    "    plt.savefig(model_directory + \"confusion_matrix_%03d.jpg\" % (model_num), dpi=500)\n",
    "    plt.show()\n",
    "    print(time.time() - start)\n"
   ]
  },
  {
   "cell_type": "code",
   "execution_count": 19,
   "metadata": {},
   "outputs": [],
   "source": [
    "resultfile = open(model_directory+\"test_results.txt\", \"a\")\n",
    "resultfile.write(\"test\")\n",
    "resultfile.write(\"\\n\")\n",
    "resultfile.write(str(test_acc))\n",
    "resultfile.write(\"\\n\")\n",
    "resultfile.write(str(test_loss))\n",
    "resultfile.write(\"\\n\")\n",
    "resultfile.close()\n"
   ]
  }
 ],
 "metadata": {
  "kernelspec": {
   "display_name": "py37-pytorch",
   "language": "python",
   "name": "bonnie-pytorch"
  },
  "language_info": {
   "codemirror_mode": {
    "name": "ipython",
    "version": 3
   },
   "file_extension": ".py",
   "mimetype": "text/x-python",
   "name": "python",
   "nbconvert_exporter": "python",
   "pygments_lexer": "ipython3",
   "version": "3.7.2"
  }
 },
 "nbformat": 4,
 "nbformat_minor": 4
}
